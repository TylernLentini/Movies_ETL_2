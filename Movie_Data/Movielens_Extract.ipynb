{
 "cells": [
  {
   "cell_type": "code",
   "execution_count": 1,
   "id": "93407507",
   "metadata": {},
   "outputs": [],
   "source": [
    "import pandas as pd\n",
    "\n",
    "kaggle_metadata = pd.read_csv('movies_metadata.csv', low_memory=False)\n",
    "ratings = pd.read_csv('ratings.csv')"
   ]
  },
  {
   "cell_type": "code",
   "execution_count": 2,
   "id": "719b0157",
   "metadata": {},
   "outputs": [
    {
     "data": {
      "text/html": [
       "<div>\n",
       "<style scoped>\n",
       "    .dataframe tbody tr th:only-of-type {\n",
       "        vertical-align: middle;\n",
       "    }\n",
       "\n",
       "    .dataframe tbody tr th {\n",
       "        vertical-align: top;\n",
       "    }\n",
       "\n",
       "    .dataframe thead th {\n",
       "        text-align: right;\n",
       "    }\n",
       "</style>\n",
       "<table border=\"1\" class=\"dataframe\">\n",
       "  <thead>\n",
       "    <tr style=\"text-align: right;\">\n",
       "      <th></th>\n",
       "      <th>userId</th>\n",
       "      <th>movieId</th>\n",
       "      <th>rating</th>\n",
       "      <th>timestamp</th>\n",
       "    </tr>\n",
       "  </thead>\n",
       "  <tbody>\n",
       "    <tr>\n",
       "      <th>21386699</th>\n",
       "      <td>222134</td>\n",
       "      <td>2427</td>\n",
       "      <td>5.0</td>\n",
       "      <td>1180286528</td>\n",
       "    </tr>\n",
       "    <tr>\n",
       "      <th>15175926</th>\n",
       "      <td>157918</td>\n",
       "      <td>3114</td>\n",
       "      <td>2.0</td>\n",
       "      <td>1100985829</td>\n",
       "    </tr>\n",
       "    <tr>\n",
       "      <th>9468752</th>\n",
       "      <td>97753</td>\n",
       "      <td>119145</td>\n",
       "      <td>2.5</td>\n",
       "      <td>1471678970</td>\n",
       "    </tr>\n",
       "    <tr>\n",
       "      <th>20942421</th>\n",
       "      <td>217591</td>\n",
       "      <td>2529</td>\n",
       "      <td>4.0</td>\n",
       "      <td>974772910</td>\n",
       "    </tr>\n",
       "    <tr>\n",
       "      <th>3869123</th>\n",
       "      <td>40241</td>\n",
       "      <td>1197</td>\n",
       "      <td>4.0</td>\n",
       "      <td>953490190</td>\n",
       "    </tr>\n",
       "    <tr>\n",
       "      <th>19100183</th>\n",
       "      <td>198412</td>\n",
       "      <td>1015</td>\n",
       "      <td>3.0</td>\n",
       "      <td>842434474</td>\n",
       "    </tr>\n",
       "    <tr>\n",
       "      <th>4165450</th>\n",
       "      <td>43252</td>\n",
       "      <td>364</td>\n",
       "      <td>3.0</td>\n",
       "      <td>832478827</td>\n",
       "    </tr>\n",
       "    <tr>\n",
       "      <th>24127571</th>\n",
       "      <td>250551</td>\n",
       "      <td>2795</td>\n",
       "      <td>3.5</td>\n",
       "      <td>1068826573</td>\n",
       "    </tr>\n",
       "  </tbody>\n",
       "</table>\n",
       "</div>"
      ],
      "text/plain": [
       "          userId  movieId  rating   timestamp\n",
       "21386699  222134     2427     5.0  1180286528\n",
       "15175926  157918     3114     2.0  1100985829\n",
       "9468752    97753   119145     2.5  1471678970\n",
       "20942421  217591     2529     4.0   974772910\n",
       "3869123    40241     1197     4.0   953490190\n",
       "19100183  198412     1015     3.0   842434474\n",
       "4165450    43252      364     3.0   832478827\n",
       "24127571  250551     2795     3.5  1068826573"
      ]
     },
     "execution_count": 2,
     "metadata": {},
     "output_type": "execute_result"
    }
   ],
   "source": [
    "ratings.sample(n=8)"
   ]
  },
  {
   "cell_type": "code",
   "execution_count": null,
   "id": "cd6a8e2a",
   "metadata": {},
   "outputs": [],
   "source": []
  },
  {
   "cell_type": "code",
   "execution_count": null,
   "id": "3287add8",
   "metadata": {},
   "outputs": [],
   "source": []
  }
 ],
 "metadata": {
  "kernelspec": {
   "display_name": "PythonData",
   "language": "python",
   "name": "pythondata"
  },
  "language_info": {
   "codemirror_mode": {
    "name": "ipython",
    "version": 3
   },
   "file_extension": ".py",
   "mimetype": "text/x-python",
   "name": "python",
   "nbconvert_exporter": "python",
   "pygments_lexer": "ipython3",
   "version": "3.7.10"
  }
 },
 "nbformat": 4,
 "nbformat_minor": 5
}
