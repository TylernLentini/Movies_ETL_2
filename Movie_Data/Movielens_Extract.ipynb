{
 "cells": [
  {
   "cell_type": "code",
   "execution_count": 1,
   "id": "93407507",
   "metadata": {},
   "outputs": [],
   "source": [
    "import pandas as pd\n",
    "\n",
    "kaggle_metadata = pd.read_csv('movies_metadata.csv', low_memory=False)\n",
    "ratings = pd.read_csv('ratings.csv')"
   ]
  },
  {
   "cell_type": "code",
   "execution_count": 2,
   "id": "719b0157",
   "metadata": {},
   "outputs": [
    {
     "data": {
      "text/html": [
       "<div>\n",
       "<style scoped>\n",
       "    .dataframe tbody tr th:only-of-type {\n",
       "        vertical-align: middle;\n",
       "    }\n",
       "\n",
       "    .dataframe tbody tr th {\n",
       "        vertical-align: top;\n",
       "    }\n",
       "\n",
       "    .dataframe thead th {\n",
       "        text-align: right;\n",
       "    }\n",
       "</style>\n",
       "<table border=\"1\" class=\"dataframe\">\n",
       "  <thead>\n",
       "    <tr style=\"text-align: right;\">\n",
       "      <th></th>\n",
       "      <th>userId</th>\n",
       "      <th>movieId</th>\n",
       "      <th>rating</th>\n",
       "      <th>timestamp</th>\n",
       "    </tr>\n",
       "  </thead>\n",
       "  <tbody>\n",
       "    <tr>\n",
       "      <th>5198531</th>\n",
       "      <td>53562</td>\n",
       "      <td>75813</td>\n",
       "      <td>3.5</td>\n",
       "      <td>1292117969</td>\n",
       "    </tr>\n",
       "    <tr>\n",
       "      <th>15537913</th>\n",
       "      <td>161725</td>\n",
       "      <td>7132</td>\n",
       "      <td>4.0</td>\n",
       "      <td>1160897544</td>\n",
       "    </tr>\n",
       "    <tr>\n",
       "      <th>10098455</th>\n",
       "      <td>104174</td>\n",
       "      <td>8874</td>\n",
       "      <td>0.5</td>\n",
       "      <td>1458959974</td>\n",
       "    </tr>\n",
       "    <tr>\n",
       "      <th>22347840</th>\n",
       "      <td>231912</td>\n",
       "      <td>6365</td>\n",
       "      <td>0.5</td>\n",
       "      <td>1231070020</td>\n",
       "    </tr>\n",
       "    <tr>\n",
       "      <th>5965753</th>\n",
       "      <td>61418</td>\n",
       "      <td>292</td>\n",
       "      <td>4.0</td>\n",
       "      <td>975359961</td>\n",
       "    </tr>\n",
       "    <tr>\n",
       "      <th>18185886</th>\n",
       "      <td>188668</td>\n",
       "      <td>2329</td>\n",
       "      <td>4.0</td>\n",
       "      <td>1224456918</td>\n",
       "    </tr>\n",
       "    <tr>\n",
       "      <th>11839126</th>\n",
       "      <td>122780</td>\n",
       "      <td>160</td>\n",
       "      <td>3.0</td>\n",
       "      <td>1001617179</td>\n",
       "    </tr>\n",
       "    <tr>\n",
       "      <th>17681183</th>\n",
       "      <td>183416</td>\n",
       "      <td>7438</td>\n",
       "      <td>4.0</td>\n",
       "      <td>1471150615</td>\n",
       "    </tr>\n",
       "  </tbody>\n",
       "</table>\n",
       "</div>"
      ],
      "text/plain": [
       "          userId  movieId  rating   timestamp\n",
       "5198531    53562    75813     3.5  1292117969\n",
       "15537913  161725     7132     4.0  1160897544\n",
       "10098455  104174     8874     0.5  1458959974\n",
       "22347840  231912     6365     0.5  1231070020\n",
       "5965753    61418      292     4.0   975359961\n",
       "18185886  188668     2329     4.0  1224456918\n",
       "11839126  122780      160     3.0  1001617179\n",
       "17681183  183416     7438     4.0  1471150615"
      ]
     },
     "execution_count": 2,
     "metadata": {},
     "output_type": "execute_result"
    }
   ],
   "source": [
    "ratings.sample(n=8)"
   ]
  },
  {
   "cell_type": "code",
   "execution_count": null,
   "id": "cd6a8e2a",
   "metadata": {},
   "outputs": [],
   "source": []
  },
  {
   "cell_type": "code",
   "execution_count": null,
   "id": "3287add8",
   "metadata": {},
   "outputs": [],
   "source": []
  }
 ],
 "metadata": {
  "kernelspec": {
   "display_name": "PythonData",
   "language": "python",
   "name": "pythondata"
  },
  "language_info": {
   "codemirror_mode": {
    "name": "ipython",
    "version": 3
   },
   "file_extension": ".py",
   "mimetype": "text/x-python",
   "name": "python",
   "nbconvert_exporter": "python",
   "pygments_lexer": "ipython3",
   "version": "3.7.10"
  }
 },
 "nbformat": 4,
 "nbformat_minor": 5
}
