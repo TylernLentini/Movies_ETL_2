{
 "cells": [
  {
   "cell_type": "code",
   "execution_count": null,
   "id": "24429878",
   "metadata": {},
   "outputs": [],
   "source": [
    "import json\n",
    "import pandas as pd\n",
    "import numpy as np\n",
    "import re"
   ]
  },
  {
   "cell_type": "code",
   "execution_count": null,
   "id": "1e968ccd",
   "metadata": {},
   "outputs": [],
   "source": [
    "file_dir = 'wikipedia-movies.json'"
   ]
  },
  {
   "cell_type": "code",
   "execution_count": null,
   "id": "f1ccadd5",
   "metadata": {},
   "outputs": [],
   "source": [
    "with open(f'{file_dir}') as file: \n",
    "          wiki_movies_raw = json.load(file)"
   ]
  },
  {
   "cell_type": "code",
   "execution_count": null,
   "id": "e3f3e63c",
   "metadata": {},
   "outputs": [],
   "source": [
    "len(wiki_movies_raw)"
   ]
  },
  {
   "cell_type": "code",
   "execution_count": null,
   "id": "1c98b2d8",
   "metadata": {},
   "outputs": [],
   "source": [
    "# First 5 records\n",
    "wiki_movies_raw[:5]"
   ]
  },
  {
   "cell_type": "code",
   "execution_count": null,
   "id": "06b192b1",
   "metadata": {},
   "outputs": [],
   "source": [
    "# Last 5 records\n",
    "wiki_movies_raw[-5:]"
   ]
  },
  {
   "cell_type": "code",
   "execution_count": null,
   "id": "b802a90d",
   "metadata": {},
   "outputs": [],
   "source": [
    "# Some records in the middle\n",
    "wiki_movies_raw[3600:3605]\n"
   ]
  },
  {
   "cell_type": "code",
   "execution_count": null,
   "id": "841ba9f1",
   "metadata": {},
   "outputs": [],
   "source": [
    "#convert records to df\n",
    "wiki_movies_df = pd.DataFrame(wiki_movies_raw)\n",
    "wiki_movies_df.head()"
   ]
  },
  {
   "cell_type": "code",
   "execution_count": null,
   "id": "9ef3421f",
   "metadata": {},
   "outputs": [],
   "source": [
    "#193 columns are too many to display in df\n",
    "wiki_movies_df.columns.tolist()"
   ]
  },
  {
   "cell_type": "code",
   "execution_count": null,
   "id": "35d45cce",
   "metadata": {},
   "outputs": [],
   "source": [
    "#clean movie data\n",
    "wiki_movies = [movie for movie in wiki_movies_raw\n",
    "if ('Director' in movie or 'Directed by' in movie) \n",
    "               and 'imdb_link' in movie\n",
    "               and 'No. of episodes' not in movie]\n",
    "len(wiki_movies)"
   ]
  },
  {
   "cell_type": "code",
   "execution_count": null,
   "id": "2935dc55",
   "metadata": {},
   "outputs": [],
   "source": [
    "#check for movies in arabic \n",
    "wiki_movies_df[wiki_movies_df['Arabic'].notnull()]['url']"
   ]
  },
  {
   "cell_type": "code",
   "execution_count": null,
   "id": "910a1611",
   "metadata": {},
   "outputs": [],
   "source": [
    "wiki_movies_df[wiki_movies_df['Polish'].notnull()]"
   ]
  },
  {
   "cell_type": "code",
   "execution_count": null,
   "id": "3bf4edf6",
   "metadata": {},
   "outputs": [],
   "source": [
    "def clean_movie(movie):\n",
    "    movie = dict(movie) #create a non-destructive copy\n",
    "    # step 1: Make an empty dict to hold all the alt titles\n",
    "    alt_titles = {}\n",
    "    # step 2: loop through a list of all alternative title keys\n",
    "    for key in ['Also known as','Arabic','Cantonese','Chinese','French',\n",
    "                'Hangul','Hebrew','Hepburn','Japanese','Literally',\n",
    "                'Mandarin','McCune–Reischauer','Original title','Polish',\n",
    "                'Revised Romanization','Romanized','Russian',\n",
    "                'Simplified','Traditional','Yiddish']:\n",
    "        # step 2a: Check if the current key exists in the movie object:\n",
    "        if key in movie:\n",
    "            # step 2b: if so, remove the key-value pair and add to the alt titles dict\n",
    "            alt_titles[key] = movie[key]\n",
    "            movie.pop(key)\n",
    "    # step 3: After looping through every key, add the alternative titles dict to the movie object\n",
    "    if len(alt_titles) > 0:\n",
    "        movie['alt_titles'] = alt_titles\n",
    "        \n",
    "    return movie"
   ]
  },
  {
   "cell_type": "code",
   "execution_count": null,
   "id": "5e3e3b4e",
   "metadata": {},
   "outputs": [],
   "source": [
    "clean_movies = [clean_movie(movie) for movie in wiki_movies]"
   ]
  },
  {
   "cell_type": "code",
   "execution_count": null,
   "id": "df42c340",
   "metadata": {},
   "outputs": [],
   "source": [
    "wiki_movies_df = pd.DataFrame(clean_movies)\n",
    "sorted(wiki_movies_df.columns.tolist())"
   ]
  },
  {
   "cell_type": "code",
   "execution_count": null,
   "id": "70bee461",
   "metadata": {},
   "outputs": [],
   "source": [
    "def clean_movie(movie):\n",
    "    movie = dict(movie) #create a non-destructive copy\n",
    "    alt_titles = {}\n",
    "    # combine alternate titles into one list\n",
    "    for key in ['Also known as','Arabic','Cantonese','Chinese','French',\n",
    "                'Hangul','Hebrew','Hepburn','Japanese','Literally',\n",
    "                'Mandarin','McCune-Reischauer','Original title','Polish',\n",
    "                'Revised Romanization','Romanized','Russian',\n",
    "                'Simplified','Traditional','Yiddish']:\n",
    "        if key in movie:\n",
    "            alt_titles[key] = movie[key]\n",
    "            movie.pop(key)\n",
    "    if len(alt_titles) > 0:\n",
    "        movie['alt_titles'] = alt_titles\n",
    "\n",
    "    # merge column names\n",
    "    def change_column_name(old_name, new_name):\n",
    "        if old_name in movie:\n",
    "            movie[new_name] = movie.pop(old_name)\n",
    "    change_column_name('Adaptation by', 'Writer(s)')\n",
    "    change_column_name('Country of origin', 'Country')\n",
    "    change_column_name('Directed by', 'Director')\n",
    "    change_column_name('Distributed by', 'Distributor')\n",
    "    change_column_name('Edited by', 'Editor(s)')\n",
    "    change_column_name('Length', 'Running time')\n",
    "    change_column_name('Original release', 'Release date')\n",
    "    change_column_name('Music by', 'Composer(s)')\n",
    "    change_column_name('Produced by', 'Producer(s)')\n",
    "    change_column_name('Producer', 'Producer(s)')\n",
    "    change_column_name('Productioncompanies ', 'Production company(s)')\n",
    "    change_column_name('Productioncompany ', 'Production company(s)')\n",
    "    change_column_name('Released', 'Release Date')\n",
    "    change_column_name('Release Date', 'Release date')\n",
    "    change_column_name('Screen story by', 'Writer(s)')\n",
    "    change_column_name('Screenplay by', 'Writer(s)')\n",
    "    change_column_name('Story by', 'Writer(s)')\n",
    "    change_column_name('Theme music composer', 'Composer(s)')\n",
    "    change_column_name('Written by', 'Writer(s)')\n",
    "\n",
    "    return movie"
   ]
  },
  {
   "cell_type": "code",
   "execution_count": null,
   "id": "313264e0",
   "metadata": {},
   "outputs": [],
   "source": [
    "clean_movies = [clean_movie(movie) for movie in wiki_movies]\n",
    "wiki_movies_df = pd.DataFrame(clean_movies)\n",
    "sorted(wiki_movies_df.columns.tolist())\n"
   ]
  },
  {
   "cell_type": "code",
   "execution_count": null,
   "id": "c9328024",
   "metadata": {},
   "outputs": [],
   "source": [
    "len(wiki_movies_df.columns.tolist())"
   ]
  },
  {
   "cell_type": "code",
   "execution_count": null,
   "id": "951b49a6",
   "metadata": {},
   "outputs": [],
   "source": [
    "wiki_movies_df['imdb_id'] = wiki_movies_df['imdb_link'].str.extract(r'(tt\\d{7})')\n",
    "print(len(wiki_movies_df))\n",
    "wiki_movies_df.drop_duplicates(subset='imdb_id', inplace=True)\n",
    "print(len(wiki_movies_df))\n",
    "wiki_movies_df.head()"
   ]
  },
  {
   "cell_type": "code",
   "execution_count": null,
   "id": "81101f69",
   "metadata": {},
   "outputs": [],
   "source": [
    "[[column,wiki_movies_df[column].isnull().sum()] for column in wiki_movies_df.columns]"
   ]
  },
  {
   "cell_type": "code",
   "execution_count": null,
   "id": "cdcc1ace",
   "metadata": {},
   "outputs": [],
   "source": [
    "wiki_columns_to_keep = [column for column in wiki_movies_df.columns if wiki_movies_df[column].isnull().sum() < len(wiki_movies_df) * 0.9]\n",
    "wiki_movies_df = wiki_movies_df[wiki_columns_to_keep]"
   ]
  },
  {
   "cell_type": "code",
   "execution_count": null,
   "id": "5972e8c6",
   "metadata": {},
   "outputs": [],
   "source": [
    "#8.3.8 convert and parse the data\n",
    "wiki_movies_df.dtypes\n"
   ]
  },
  {
   "cell_type": "code",
   "execution_count": null,
   "id": "69987988",
   "metadata": {},
   "outputs": [],
   "source": [
    "#convert box office to numeric: make a data series that drops missing values with the following\n",
    "box_office = wiki_movies_df['Box office'].dropna()\n",
    "len(box_office)"
   ]
  },
  {
   "cell_type": "code",
   "execution_count": null,
   "id": "9db235e9",
   "metadata": {},
   "outputs": [],
   "source": [
    "#regex only works on strings, use map() method to see which values are NOT strings\n",
    "def is_not_a_string(x):\n",
    "    return type(x) != str\n",
    "box_office[box_office.map(is_not_a_string)]"
   ]
  },
  {
   "cell_type": "code",
   "execution_count": null,
   "id": "46469477",
   "metadata": {},
   "outputs": [],
   "source": [
    "#use list comprehension and lambda to shorten previous function\n",
    "box_office[box_office.map(lambda x: type(x) != str)]"
   ]
  },
  {
   "cell_type": "code",
   "execution_count": null,
   "id": "2c7e7d07",
   "metadata": {},
   "outputs": [],
   "source": [
    "box_office = box_office.apply(lambda x: ' '.join(x) if type(x) == list else x)"
   ]
  },
  {
   "cell_type": "code",
   "execution_count": null,
   "id": "c3345cd5",
   "metadata": {},
   "outputs": [],
   "source": [
    "#Parse boxx office data and count the\n",
    "# number of box office values that match this pattern\n",
    "form_one = r'\\$\\s*\\d+\\.?\\d*\\s*[mb]illi?on'\n",
    "box_office.str.contains(form_one, flags=re.IGNORECASE, na=False).sum()"
   ]
  },
  {
   "cell_type": "code",
   "execution_count": null,
   "id": "b3645e41",
   "metadata": {},
   "outputs": [],
   "source": [
    "form_two = r'\\$\\s*\\d{1,3}(?:[,\\.]\\d{3})+(?!\\s[mb]illion)'\n",
    "box_office.str.contains(form_two, flags=re.IGNORECASE, na=False).sum()\n",
    "\n",
    "box_office = box_office.str.replace(r'\\$.*[-—–](?![a-z])', '$', regex=True)"
   ]
  },
  {
   "cell_type": "code",
   "execution_count": null,
   "id": "88772f35",
   "metadata": {},
   "outputs": [],
   "source": [
    "#create two boolean series then select the box office values that don't match either\n",
    "matches_form_one = box_office.str.contains(form_one, flags=re.IGNORECASE, na=False)\n",
    "matches_form_two = box_office.str.contains(form_two, flags=re.IGNORECASE, na=False)\n",
    "#below reads box_office[NOT matches_form_one AND NOT matches_form_two]\n",
    "box_office[~matches_form_one & ~matches_form_two]"
   ]
  },
  {
   "cell_type": "code",
   "execution_count": null,
   "id": "7be58772",
   "metadata": {},
   "outputs": [],
   "source": [
    "#Now that we've got expressions to match almost all the box office values, \n",
    "#we'll use them to extract only the parts of the strings that match\n",
    "box_office.str.extract(f'({form_one}|{form_two})')"
   ]
  },
  {
   "cell_type": "code",
   "execution_count": null,
   "id": "87eb5c30",
   "metadata": {},
   "outputs": [],
   "source": [
    "#create a function to turn the extracted values into a numeric value\n",
    "def parse_dollars(s):\n",
    "    # if s is not a string, return NaN\n",
    "    if type(s) != str:\n",
    "        return np.nan\n",
    "\n",
    "    # if input is of the form $###.# million\n",
    "    if re.match(r'\\$\\s*\\d+\\.?\\d*\\s*milli?on', s, flags=re.IGNORECASE):\n",
    "\n",
    "        # remove dollar sign and \" million\"\n",
    "        s = re.sub('\\$|\\s|[a-zA-Z]','', s)\n",
    "\n",
    "        # convert to float and multiply by a million\n",
    "        value = float(s) * 10**6\n",
    "\n",
    "        # return value\n",
    "        return value\n",
    "\n",
    "    # if input is of the form $###.# billion\n",
    "    elif re.match(r'\\$\\s*\\d+\\.?\\d*\\s*billi?on', s, flags=re.IGNORECASE):\n",
    "\n",
    "        # remove dollar sign and \" billion\"\n",
    "        s = re.sub('\\$|\\s|[a-zA-Z]','', s)\n",
    "\n",
    "        # convert to float and multiply by a billion\n",
    "        value = float(s) * 10**9\n",
    "\n",
    "        # return value\n",
    "        return value\n",
    "\n",
    "    # if input is of the form $###,###,###\n",
    "    elif re.match(r'\\$\\s*\\d{1,3}(?:[,\\.]\\d{3})+(?!\\s[mb]illion)', s, flags=re.IGNORECASE):\n",
    "\n",
    "        # remove dollar sign and commas\n",
    "        s = re.sub('\\$|,','', s)\n",
    "\n",
    "        # convert to float\n",
    "        value = float(s)\n",
    "\n",
    "        # return value\n",
    "        return value\n",
    "\n",
    "    # otherwise, return NaN\n",
    "    else:\n",
    "        return np.nan\n"
   ]
  },
  {
   "cell_type": "code",
   "execution_count": null,
   "id": "8b49661b",
   "metadata": {},
   "outputs": [],
   "source": [
    "#Now we have everything we need to parse the box office values to numeric values.\n",
    "#First, we need to extract the values from box_office using str.extract. \n",
    "#Then we'll apply parse_dollars to the first column in the DataFrame returned by str.extract\n",
    "\n",
    "wiki_movies_df['box_office'] = box_office.str.extract(f'({form_one}|{form_two})', flags=re.IGNORECASE)[0].apply(parse_dollars)\n",
    "#check results\n",
    "wiki_movies_df['box_office']"
   ]
  },
  {
   "cell_type": "code",
   "execution_count": null,
   "id": "83dd0801",
   "metadata": {},
   "outputs": [],
   "source": [
    "#drop Box Office column\n",
    "wiki_movies_df.drop('Box office', axis=1, inplace=True)\n"
   ]
  },
  {
   "cell_type": "code",
   "execution_count": null,
   "id": "2f77a2e5",
   "metadata": {},
   "outputs": [],
   "source": [
    "#8.3.11 \n",
    "#create a budget variable\n",
    "budget = wiki_movies_df['Budget'].dropna()"
   ]
  },
  {
   "cell_type": "code",
   "execution_count": null,
   "id": "a05b5a83",
   "metadata": {},
   "outputs": [],
   "source": [
    "#Convert any lists to strings\n",
    "budget = budget.map(lambda x: ' '.join(x) if type(x) == list else x)\n",
    "budget = budget.str.replace(r'\\$.*[-—–](?![a-z])', '$', regex=True)"
   ]
  },
  {
   "cell_type": "code",
   "execution_count": null,
   "id": "dc06e90b",
   "metadata": {},
   "outputs": [],
   "source": [
    "matches_form_one = budget.str.contains(form_one, flags=re.IGNORECASE, na=False)\n",
    "matches_form_two = budget.str.contains(form_two, flags=re.IGNORECASE, na=False)\n",
    "budget[~matches_form_one & ~matches_form_two]"
   ]
  },
  {
   "cell_type": "code",
   "execution_count": null,
   "id": "7d5a0888",
   "metadata": {},
   "outputs": [],
   "source": [
    "#Remove the citation references\n",
    "budget = budget.str.replace(r'\\[\\d+\\]\\s*', '')\n",
    "budget[~matches_form_one & ~matches_form_two]\n"
   ]
  },
  {
   "cell_type": "code",
   "execution_count": null,
   "id": "d3ab1772",
   "metadata": {},
   "outputs": [],
   "source": [
    "#PARSE BUDGET VALUES\n",
    "wiki_movies_df['budget'] = budget.str.extract(f'({form_one}|{form_two})', flags=re.IGNORECASE)[0].apply(parse_dollars)\n",
    "#check results\n",
    "wiki_movies_df['budget']"
   ]
  },
  {
   "cell_type": "code",
   "execution_count": null,
   "id": "ea677841",
   "metadata": {},
   "outputs": [],
   "source": [
    "#drop original budget column\n",
    "wiki_movies_df.drop('Budget', axis=1, inplace=True)\n"
   ]
  },
  {
   "cell_type": "code",
   "execution_count": null,
   "id": "1c9a4f08",
   "metadata": {},
   "outputs": [],
   "source": [
    "# NEXT: PARSE RELEASE DATA\n",
    "#First, make a variable that holds the non-null values of Release date in the DataFrame, converting lists to strings\n",
    "release_date = wiki_movies_df['Release date'].dropna().apply(lambda x: ' '.join(x) if type(x) == list else x)\n"
   ]
  },
  {
   "cell_type": "code",
   "execution_count": null,
   "id": "5900b615",
   "metadata": {},
   "outputs": [],
   "source": [
    "#One way to parse those forms \n",
    "date_form_one = r'(?:January|February|March|April|May|June|July|August|September|October|November|December)\\s[123]?\\d,\\s\\d{4}'\n",
    "date_form_two = r'\\d{4}.[01]\\d.[0123]\\d'\n",
    "date_form_three = r'(?:January|February|March|April|May|June|July|August|September|October|November|December)\\s\\d{4}'\n",
    "date_form_four = r'\\d{4}'\n",
    "#extract the dates\n",
    "release_date.str.extract(f'({date_form_one}|{date_form_two}|{date_form_three}|{date_form_four})', flags=re.IGNORECASE)\n"
   ]
  },
  {
   "cell_type": "code",
   "execution_count": null,
   "id": "09dddca6",
   "metadata": {},
   "outputs": [],
   "source": [
    "#Instead of creating our own function to parse the dates, we'll use the built-in to_datetime() method in Pandas.\n",
    "wiki_movies_df['release_date'] = pd.to_datetime(release_date.str.extract(f'({date_form_one}|{date_form_two}|{date_form_three}|{date_form_four})')[0], infer_datetime_format=True)\n",
    "wiki_movies_df['release_date']"
   ]
  },
  {
   "cell_type": "code",
   "execution_count": null,
   "id": "30e3b5c5",
   "metadata": {},
   "outputs": [],
   "source": [
    "#NEXT: PARSE RUNNING TIME\n",
    "#First, make a variable that holds the non-null values of Release date in the DataFrame converting lists to strings\n",
    "running_time = wiki_movies_df['Running time'].dropna().apply(lambda x: ' '.join(x) if type(x) == list else x)\n",
    "print(running_time)"
   ]
  },
  {
   "cell_type": "code",
   "execution_count": null,
   "id": "27a6e688",
   "metadata": {},
   "outputs": [],
   "source": [
    "#It looks like most of the entries just look like \"100 minutes.\" \n",
    "#Let's see how many running times look exactly like that by using string boundaries.\n",
    "running_time.str.contains(r'^\\d*\\s*minutes$', flags=re.IGNORECASE, na=False).sum()\n"
   ]
  },
  {
   "cell_type": "code",
   "execution_count": null,
   "id": "e3bdadb8",
   "metadata": {},
   "outputs": [],
   "source": [
    "#The above code returns 6,528 entries. Let's get a sense of what the other 366 entries look like.\n",
    "running_time[running_time.str.contains(r'^\\d*\\s*minutes$', flags=re.IGNORECASE, na=False) != True]\n",
    "\n"
   ]
  },
  {
   "cell_type": "code",
   "execution_count": null,
   "id": "bc7eceab",
   "metadata": {},
   "outputs": [],
   "source": [
    "running_time.str.contains(r'^\\d*\\s*m', flags=re.IGNORECASE, na=False).sum()\n",
    "running_time[running_time.str.contains(r'^\\d*\\s*m', flags=re.IGNORECASE, na=False) != True]\n"
   ]
  },
  {
   "cell_type": "code",
   "execution_count": null,
   "id": "7b6d4368",
   "metadata": {},
   "outputs": [],
   "source": [
    "running_time.str.contains(r'\\d*\\s*m', flags=re.IGNORECASE, na=False).sum()\n",
    "running_time[running_time.str.contains(r'\\d*\\s*m', flags=re.IGNORECASE, na=False) != True]"
   ]
  },
  {
   "cell_type": "code",
   "execution_count": null,
   "id": "b08a0ad9",
   "metadata": {},
   "outputs": [],
   "source": [
    "running_time_extract = running_time.str.extract(r'(\\d+)\\s*ho?u?r?s?\\s*(\\d*)|(\\d+)\\s*m')\n"
   ]
  },
  {
   "cell_type": "code",
   "execution_count": null,
   "id": "ac35a5f5",
   "metadata": {},
   "outputs": [],
   "source": [
    "running_time_extract = running_time_extract.apply(lambda col: pd.to_numeric(col, errors='coerce')).fillna(0)\n"
   ]
  },
  {
   "cell_type": "code",
   "execution_count": null,
   "id": "7801b26c",
   "metadata": {},
   "outputs": [],
   "source": [
    "wiki_movies_df['running_time'] = running_time_extract.apply(lambda row: row[0]*60 + row[1] if row[2] == 0 else row[2], axis=1)\n",
    "wiki_movies_df['running_time']"
   ]
  },
  {
   "cell_type": "code",
   "execution_count": null,
   "id": "c6d95753",
   "metadata": {},
   "outputs": [],
   "source": [
    "#drop original run time column\n",
    "wiki_movies_df.drop('Running time', axis=1, inplace=True)\n"
   ]
  },
  {
   "cell_type": "code",
   "execution_count": null,
   "id": "b5312d70",
   "metadata": {},
   "outputs": [],
   "source": []
  }
 ],
 "metadata": {
  "kernelspec": {
   "display_name": "PythonData",
   "language": "python",
   "name": "pythondata"
  },
  "language_info": {
   "codemirror_mode": {
    "name": "ipython",
    "version": 3
   },
   "file_extension": ".py",
   "mimetype": "text/x-python",
   "name": "python",
   "nbconvert_exporter": "python",
   "pygments_lexer": "ipython3",
   "version": "3.7.10"
  }
 },
 "nbformat": 4,
 "nbformat_minor": 5
}
